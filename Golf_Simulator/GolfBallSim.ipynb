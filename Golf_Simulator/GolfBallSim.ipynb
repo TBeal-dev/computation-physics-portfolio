{
 "cells": [
  {
   "cell_type": "markdown",
   "id": "30b88a64",
   "metadata": {},
   "source": [
    "# Golf Clubs and how the Magnus Effect influence them\n",
    "Authors: Justin Riccardelli, Timothy Beal"
   ]
  },
  {
   "cell_type": "markdown",
   "id": "60fc592d",
   "metadata": {},
   "source": [
    "Using data already gathered on average ball speed, launch angle and spin rate, we can calculate an approximate distance with each club assuming that each ball is hit perfectly. Using this, we will calculate each club (3-iron through pitching wedge) hit with and without magnus effect in order to determine which clubs distance is most affected by backspin. Our conclusion will be based off the percentage lost, not distance lost as we can assume the greatest amount of distance lost will be the club that goes the farthest. Yards is commonly used for golf to we will be showing both the distance in meters and in yards.\n",
    "\n",
    "Our Drag Coefficient for our golfball is based off this article on a titleist golf ball.\n",
    "\n",
    "https://www.scirp.org/journal/paperinformation.aspx?paperid=85529#\n"
   ]
  },
  {
   "cell_type": "markdown",
   "id": "907f423a",
   "metadata": {},
   "source": [
    "The data for each club is the following (gathered from trackman, the best golf simulator today):"
   ]
  },
  {
   "cell_type": "markdown",
   "id": "d9b5e207",
   "metadata": {},
   "source": [
    "![pgatourstats.png](pgatourstats.png)"
   ]
  },
  {
   "cell_type": "markdown",
   "id": "f8194959",
   "metadata": {},
   "source": [
    "## The Magnus Effect\n",
    "\n",
    "The Magnus Effect is the force applied to a ball due to its interaction with the air and the spin of the ball. The spinning ball applies a force to the air, which applies an equal an opposite force back to the ball according to Newtons 3rd law. For example, a ball with backspin pushes the air down as it travels over the top surface of the ball, which causes the air to apply a force upward giving the ball lift.\n",
    "\n",
    "The equation we use for Magnus Effect is: $$\\vec{F}_{magnus} = \\alpha \\vec{\\omega} \\times \\vec{v}$$\n",
    "\n",
    "Our variable $\\alpha$ in the equation above is a constant based off of the air and ball properties. It does not effect the velocity of the ball as the force it applies is perpendicular to the velocity.\n",
    "\n",
    "To give us an applicable equation where we use variables to find $\\alpha$, we can rewrite the Magnus Effect as: $$\\vec{F}_{magnus} = \\frac{1}{2}C_L \\frac{\\rho A r}{S} \\vec{\\omega} \\times \\vec{v}$$\n",
    "\n",
    "$C_L$ is our lift coefficient depends which is based on the spin of the ball ($S = \\frac{r\\omega}{v}$) and is found using a curve fit.\n",
    "\n",
    "$$C_L = 0.62S^{0.7}$$\n",
    "\n",
    "Other variables in Magnus are:\n",
    "* $\\rho$ (rho) which is a constant\n",
    "* A which is cross sectional area of the ball\n",
    "* r which is the radius of the ball\n",
    "\n",
    "$\\vec{\\omega}$ is our angular velocity of the ball and $\\vec{v}$ is our velocity of the ball\n",
    "\n",
    "Our simulation assumes that the golf ball is hit from a stationary position with a $+x$ velocity toward the green and a $+y$ velocity up. As per usual with golf, the ball is hit with backspin, which gives our angular velocity a $+z$ direction. \n",
    "\n",
    "$$\\vec{v} = \\langle v_x, v_y, 0 \\rangle$$\n",
    "\n",
    "$$\\vec{\\omega} = \\langle 0, 0, \\omega \\rangle$$\n",
    "\n"
   ]
  },
  {
   "cell_type": "markdown",
   "id": "8c57af92",
   "metadata": {},
   "source": [
    "# The Code Begins...\n",
    "\n",
    "Below is code for the basic setup and variables"
   ]
  },
  {
   "cell_type": "code",
   "execution_count": 1,
   "id": "9edbc2e5",
   "metadata": {},
   "outputs": [],
   "source": [
    "import ode #ode.py should be in the same folder as your notebook\n",
    "import numpy as np\n",
    "import matplotlib.pyplot as plt"
   ]
  },
  {
   "cell_type": "code",
   "execution_count": 2,
   "id": "51ec551b",
   "metadata": {},
   "outputs": [],
   "source": [
    "#parameters\n",
    "g = 9.8 #N/kg\n",
    "rho = 1.2 #kg/m^3\n",
    "mu = 1.8e-5 #kg/m/s\n",
    "r = 74e-3/2 #74 mm diameter, 9.25\" in circumference\n",
    "A = np.pi*r**2 #cross-sectional area\n",
    "Cd = 0.5 #actually depends on speed\n",
    "m = 0.145 #kg\n",
    "b2 = 1/2*Cd*rho*A #will change as Cd changes\n",
    "\n",
    "S = 0.01 #will change as omega and v change\n",
    "CL = 0 #will change with S\n",
    "alpha = 1/2*CL*rho*A*r/S"
   ]
  },
  {
   "cell_type": "markdown",
   "id": "51642038",
   "metadata": {},
   "source": [
    "#### We define our initial conditions of the golf ball by using a function called initial()"
   ]
  },
  {
   "cell_type": "code",
   "execution_count": 3,
   "id": "3497cacd",
   "metadata": {},
   "outputs": [],
   "source": [
    "def initial(speed,deg,rpm):\n",
    "    # data for golf club\n",
    "    global omegamag,omegax,omegay,omegaz\n",
    "    vmag0mph = speed #mph\n",
    "    thetadeg = deg #deg\n",
    "    spinrate = rpm #rpm\n",
    "\n",
    "    # convert units and create initial conditions\n",
    "    vmag0 = vmag0mph*0.44704 #convert mph to m/s\n",
    "    theta = thetadeg*np.pi/180 #convert deg to rad\n",
    "\n",
    "    # initial position and velocity components\n",
    "    x = 0\n",
    "    y = 0\n",
    "    z = 0\n",
    "    vx = vmag0*np.cos(theta)\n",
    "    vy = vmag0*np.sin(theta)\n",
    "    vz = 0\n",
    "\n",
    "    # initial angular speed and velocity\n",
    "    omegamag = spinrate * 2*np.pi / 60 #convert to rad/s\n",
    "    omegax = 0\n",
    "    omegay = 0\n",
    "    omegaz = omegamag\n",
    "    \n",
    "    array = np.array([x,y,z,vx,vy,vz,omegamag,omegax,omegay,omegaz])\n",
    "    return array"
   ]
  },
  {
   "cell_type": "markdown",
   "id": "8d2b3e35",
   "metadata": {},
   "source": [
    "#### Below is the Magnus function"
   ]
  },
  {
   "cell_type": "code",
   "execution_count": 35,
   "id": "7f0ce1a5",
   "metadata": {},
   "outputs": [],
   "source": [
    "def magnus(d, t):\n",
    "    \"\"\" Calculate and return the derivative of each quantity in an array d at the time t.\n",
    "    \n",
    "    Keyword arguments:\n",
    "    t -- time at the beginning of the time step\n",
    "    d -- an array of variables at time t\n",
    "    \"\"\"\n",
    "    \n",
    "    x = d[0]\n",
    "    y = d[1]\n",
    "    z = d[2]\n",
    "    vx = d[3]\n",
    "    vy = d[4]\n",
    "    vz = d[5]\n",
    "    \n",
    "    dxdt = vx\n",
    "    dydt = vy\n",
    "    dzdt = vz\n",
    "\n",
    "    \n",
    "    v = np.sqrt(vx**2 + vy**2 + vz**2)\n",
    "    \n",
    "    Cd = .4\n",
    "    \n",
    "    b2 = 1/2*Cd*rho*A\n",
    "    Fdragx = -b2*v**2*vx/v\n",
    "    Fdragy = -b2*v**2*vy/v\n",
    "    Fdragz = -b2*v**2*vz/v\n",
    "    \n",
    "    #magnus\n",
    "    S = r*omegamag/v\n",
    "    CL = 0.62*S**0.7\n",
    "    alpha = 1/2*CL*rho*A*r/S\n",
    "    Fmagnusx = alpha*(omegay*vz - omegaz*vy)\n",
    "    Fmagnusy = alpha*(omegaz*vx - omegax*vz)\n",
    "    Fmagnusz = alpha*(omegax*vy - omegay*vx)\n",
    "    \n",
    "    #grav\n",
    "    Fgravy = -m*g\n",
    "    \n",
    "    #Fnet\n",
    "    Fnetx = Fdragx + Fmagnusx\n",
    "    Fnety = Fdragy + Fmagnusy + Fgravy\n",
    "    Fnetz = Fdragz + Fmagnusz\n",
    "    \n",
    "    #derivative of velocity\n",
    "    dvxdt = Fnetx/m\n",
    "    dvydt = Fnety/m\n",
    "    dvzdt = Fnetz/m\n",
    "    \n",
    "    derivs = np.array([dxdt, dydt, dzdt, dvxdt, dvydt, dvzdt])\n",
    "    \n",
    "    return derivs\n"
   ]
  },
  {
   "cell_type": "markdown",
   "id": "7fd978d4",
   "metadata": {},
   "source": [
    "#### Below we define our function only using drag with no magnus effect"
   ]
  },
  {
   "cell_type": "code",
   "execution_count": 38,
   "id": "02ca48e0",
   "metadata": {},
   "outputs": [],
   "source": [
    "def nonmagnus(d, t):\n",
    "    \"\"\" Calculate and return the derivative of each quantity in an array d at the time t.\n",
    "    \n",
    "    Keyword arguments:\n",
    "    t -- time at the beginning of the time step\n",
    "    d -- an array of variables at time t\n",
    "    \"\"\"\n",
    "    \n",
    "    x = d[0]\n",
    "    y = d[1]\n",
    "    z = d[2]\n",
    "    vx = d[3]\n",
    "    vy = d[4]\n",
    "    vz = d[5]\n",
    "    \n",
    "    dxdt = vx\n",
    "    dydt = vy\n",
    "    dzdt = vz\n",
    "\n",
    "    \n",
    "    v = np.sqrt(vx**2 + vy**2 + vz**2)\n",
    "    \n",
    "    cd = .4\n",
    "    \n",
    "    b2 = 1/2*Cd*rho*A\n",
    "    Fdragx = -b2*v**2*vx/v\n",
    "    Fdragy = -b2*v**2*vy/v\n",
    "    Fdragz = -b2*v**2*vz/v\n",
    "    \n",
    "    \n",
    "    #grav\n",
    "    Fgravy = -m*g\n",
    "    \n",
    "    #Fnet\n",
    "    Fnetx = Fdragx\n",
    "    Fnety = Fdragy + Fgravy\n",
    "    Fnetz = Fdragz\n",
    "    \n",
    "    #derivative of velocity\n",
    "    dvxdt = Fnetx/m\n",
    "    dvydt = Fnety/m\n",
    "    dvzdt = Fnetz/m\n",
    "    \n",
    "    derivs = np.array([dxdt, dydt, dzdt, dvxdt, dvydt, dvzdt])\n",
    "    \n",
    "    return derivs\n"
   ]
  },
  {
   "cell_type": "markdown",
   "id": "180481d1",
   "metadata": {},
   "source": [
    "#### Below is the function for running the simulation and outputting the graphs"
   ]
  },
  {
   "cell_type": "code",
   "execution_count": 39,
   "id": "de4a36f0",
   "metadata": {},
   "outputs": [],
   "source": [
    "def run(array):\n",
    "    t = 0\n",
    "    h = 0.01\n",
    "    \n",
    "    x = array[0]\n",
    "    y = array[1]\n",
    "    z = array[2]\n",
    "    vx = array[3]\n",
    "    vy = array[4]\n",
    "    vz = array[5]\n",
    "    omegamag = array[6]\n",
    "    omegax = array[7]\n",
    "    omegay = array[8]\n",
    "    omegaz = array[9]\n",
    "\n",
    "    # array for instantaneous position and velocity data\n",
    "    data = np.array([x, y, z, vx, vy, vz])\n",
    "\n",
    "\n",
    "    # lists for storing data to graph\n",
    "    tlist = []\n",
    "    xlist = []\n",
    "    ylist = []\n",
    "\n",
    "    # store initial values\n",
    "    tlist.append(t)\n",
    "    xlist.append(x)\n",
    "    ylist.append(y)\n",
    "\n",
    "    while y >= 0:\n",
    "\n",
    "        data = ode.RK4(magnus, data, t, h)\n",
    "        t = t + h\n",
    "\n",
    "        x = data[0]\n",
    "        y = data[1]\n",
    "\n",
    "        tlist.append(t)\n",
    "        xlist.append(x)\n",
    "        ylist.append(y)\n",
    "\n",
    "    xmax = xlist[-1]\n",
    "    print(\"max x in m = \", xmax)\n",
    "\n",
    "    xmax_yd = xmax*1.094\n",
    "    print(\"max x in yd = \", xmax_yd)\n",
    "    \n",
    "    return xlist,ylist,xmax_yd"
   ]
  },
  {
   "cell_type": "markdown",
   "id": "564fcb30",
   "metadata": {},
   "source": [
    "#### Run code used with no Magnus Effect"
   ]
  },
  {
   "cell_type": "code",
   "execution_count": 40,
   "id": "26c78569",
   "metadata": {},
   "outputs": [],
   "source": [
    "def nrun(array):\n",
    "    t = 0\n",
    "    h = 0.01\n",
    "    \n",
    "    x = array[0]\n",
    "    y = array[1]\n",
    "    z = array[2]\n",
    "    vx = array[3]\n",
    "    vy = array[4]\n",
    "    vz = array[5]\n",
    "    omegamag = array[6]\n",
    "    omegax = array[7]\n",
    "    omegay = array[8]\n",
    "    omegaz = array[9]\n",
    "\n",
    "    # array for instantaneous position and velocity data\n",
    "    data = np.array([x, y, z, vx, vy, vz])\n",
    "\n",
    "\n",
    "    # lists for storing data to graph\n",
    "    tlist = []\n",
    "    xlist = []\n",
    "    ylist = []\n",
    "\n",
    "    # store initial values\n",
    "    tlist.append(t)\n",
    "    xlist.append(x)\n",
    "    ylist.append(y)\n",
    "\n",
    "    while y >= 0:\n",
    "\n",
    "        data = ode.RK4(nonmagnus, data, t, h)\n",
    "        t = t + h\n",
    "\n",
    "        x = data[0]\n",
    "        y = data[1]\n",
    "\n",
    "        tlist.append(t)\n",
    "        xlist.append(x)\n",
    "        ylist.append(y)\n",
    "\n",
    "    xmax = xlist[-1]\n",
    "    print(\"max x in m = \", xmax)\n",
    "\n",
    "    nxmax_yd = xmax*1.094\n",
    "    print(\"max x in yd = \", nxmax_yd)\n",
    "    \n",
    "    return xlist,ylist,nxmax_yd"
   ]
  },
  {
   "cell_type": "markdown",
   "id": "225532c1",
   "metadata": {},
   "source": [
    "#### Functions to plot and calculate percentage lost"
   ]
  },
  {
   "cell_type": "code",
   "execution_count": 41,
   "id": "7d7f7323",
   "metadata": {},
   "outputs": [],
   "source": [
    "def plot(xlist,ylist):\n",
    "    plt.figure(figsize = (8,6))\n",
    "    plt.title(\"Trajectory of the Golf Ball\")\n",
    "    plt.xlabel(\"x (m)\")\n",
    "    plt.ylabel(\"y (m)\")\n",
    "    plt.plot(xlist, ylist)\n",
    "    plt.show()\n",
    "    \n",
    "def plost(xmax_yd,nxmax_yd):\n",
    "    plost = ((xmax_yd - nxmax_yd)/xmax_yd)*100\n",
    "    print(\"Percentage lost = \", plost,\"%\")"
   ]
  },
  {
   "cell_type": "markdown",
   "id": "21e896a0",
   "metadata": {},
   "source": [
    "# Testing each club\n",
    "Having our code set up prior, we will run each club with our code and determine which clubs distance is most effected by the Magnus Effect.\n",
    "\n",
    "To see the graph, just uncomment the plot() function for whichever instance you would like to see. We will show both graphs for the 3 iron to see what each graph should approximately look like."
   ]
  },
  {
   "cell_type": "markdown",
   "id": "1fd6d43b",
   "metadata": {},
   "source": [
    "#### 3 iron with Magnus Effect"
   ]
  },
  {
   "cell_type": "code",
   "execution_count": 42,
   "id": "a876b037",
   "metadata": {},
   "outputs": [
    {
     "name": "stdout",
     "output_type": "stream",
     "text": [
      "max x in m =  182.50954415610153\n",
      "max x in yd =  199.66544130677508\n"
     ]
    },
    {
     "data": {
      "image/png": "[encoded data removed]",
      "text/plain": [
       "<Figure size 576x432 with 1 Axes>"
      ]
     },
     "metadata": {
      "needs_background": "light"
     },
     "output_type": "display_data"
    }
   ],
   "source": [
    "output = initial(142,10.4,4630)\n",
    "xlist,ylist,x = run(output)\n",
    "plot(xlist,ylist)"
   ]
  },
  {
   "cell_type": "markdown",
   "id": "162cc7b2",
   "metadata": {},
   "source": [
    "#### 3 Iron without Magnus Effect"
   ]
  },
  {
   "cell_type": "code",
   "execution_count": 43,
   "id": "deb56a92",
   "metadata": {},
   "outputs": [
    {
     "name": "stdout",
     "output_type": "stream",
     "text": [
      "max x in m =  83.20413830662953\n",
      "max x in yd =  91.02532730745271\n"
     ]
    },
    {
     "data": {
      "image/png": "[encoded data removed]",
      "text/plain": [
       "<Figure size 576x432 with 1 Axes>"
      ]
     },
     "metadata": {
      "needs_background": "light"
     },
     "output_type": "display_data"
    },
    {
     "name": "stdout",
     "output_type": "stream",
     "text": [
      "Percentage lost =  54.41107549122772 %\n"
     ]
    }
   ],
   "source": [
    "output = initial(142,10.4,4630)\n",
    "xlist,ylist,y = nrun(output)\n",
    "plot(xlist,ylist)\n",
    "plost(x,y)"
   ]
  },
  {
   "cell_type": "markdown",
   "id": "03af5c0f",
   "metadata": {},
   "source": [
    "#### 4 Iron with Magnus Effect"
   ]
  },
  {
   "cell_type": "code",
   "execution_count": 44,
   "id": "213c4905",
   "metadata": {},
   "outputs": [
    {
     "name": "stdout",
     "output_type": "stream",
     "text": [
      "max x in m =  178.48827003791416\n",
      "max x in yd =  195.26616742147812\n"
     ]
    }
   ],
   "source": [
    "output = initial(137,11,4836)\n",
    "xlist,ylist,x = run(output)\n",
    "#plot(xlist,ylist)"
   ]
  },
  {
   "cell_type": "markdown",
   "id": "a3c9360f",
   "metadata": {},
   "source": [
    "#### 4 Iron without Magnus Effect"
   ]
  },
  {
   "cell_type": "code",
   "execution_count": 45,
   "id": "d0122c8c",
   "metadata": {},
   "outputs": [
    {
     "name": "stdout",
     "output_type": "stream",
     "text": [
      "max x in m =  83.20413830662953\n",
      "max x in yd =  91.02532730745271\n",
      "Percentage lost =  53.38397403428502 %\n"
     ]
    }
   ],
   "source": [
    "output = initial(142,10.4,4630)\n",
    "xlist,ylist,y = nrun(output)\n",
    "#plot(xlist,ylist)\n",
    "plost(x,y)"
   ]
  },
  {
   "cell_type": "markdown",
   "id": "58b0034f",
   "metadata": {},
   "source": [
    "#### 5 Iron with Magnus Effect"
   ]
  },
  {
   "cell_type": "code",
   "execution_count": 46,
   "id": "db943c6a",
   "metadata": {},
   "outputs": [
    {
     "name": "stdout",
     "output_type": "stream",
     "text": [
      "max x in m =  176.03791666345336\n",
      "max x in yd =  192.58548082981798\n"
     ]
    }
   ],
   "source": [
    "output = initial(132,12.1,5361)\n",
    "xlist,ylist,x = run(output)\n",
    "#plot(xlist,ylist)"
   ]
  },
  {
   "cell_type": "markdown",
   "id": "1843e447",
   "metadata": {},
   "source": [
    "#### 5 Iron without Magnus Effect"
   ]
  },
  {
   "cell_type": "code",
   "execution_count": 47,
   "id": "b5b05369",
   "metadata": {},
   "outputs": [
    {
     "name": "stdout",
     "output_type": "stream",
     "text": [
      "max x in m =  83.0684883542187\n",
      "max x in yd =  90.87692625951527\n",
      "Percentage lost =  52.812161193075355 %\n"
     ]
    }
   ],
   "source": [
    "output = initial(132,12.1,5361)\n",
    "xlist,ylist,y = nrun(output)\n",
    "#plot(xlist,ylist)\n",
    "plost(x,y)"
   ]
  },
  {
   "cell_type": "markdown",
   "id": "39ed5a91",
   "metadata": {},
   "source": [
    "#### 6 Iron with Magnus Effect"
   ]
  },
  {
   "cell_type": "code",
   "execution_count": 48,
   "id": "74368a30",
   "metadata": {},
   "outputs": [
    {
     "name": "stdout",
     "output_type": "stream",
     "text": [
      "max x in m =  172.87249494148946\n",
      "max x in yd =  189.12250946598948\n"
     ]
    }
   ],
   "source": [
    "output = initial(127,14.1,6231)\n",
    "xlist,ylist,x = run(output)\n",
    "#plot(xlist,ylist)"
   ]
  },
  {
   "cell_type": "markdown",
   "id": "3ab043c2",
   "metadata": {},
   "source": [
    "#### 6 Iron without Magnus Effect"
   ]
  },
  {
   "cell_type": "code",
   "execution_count": 49,
   "id": "c6e0f2b1",
   "metadata": {},
   "outputs": [
    {
     "name": "stdout",
     "output_type": "stream",
     "text": [
      "max x in m =  86.25103939305596\n",
      "max x in yd =  94.35863709600324\n",
      "Percentage lost =  50.10713565379585 %\n"
     ]
    }
   ],
   "source": [
    "output = initial(127,14.1,6231)\n",
    "xlist,ylist,y = nrun(output)\n",
    "#plot(xlist,ylist)\n",
    "plost(x,y)"
   ]
  },
  {
   "cell_type": "markdown",
   "id": "be0c3a85",
   "metadata": {},
   "source": [
    "#### 7 Iron with Magnus Effect"
   ]
  },
  {
   "cell_type": "code",
   "execution_count": 50,
   "id": "9de29836",
   "metadata": {},
   "outputs": [
    {
     "name": "stdout",
     "output_type": "stream",
     "text": [
      "max x in m =  163.88619898236934\n",
      "max x in yd =  179.29150168671208\n"
     ]
    }
   ],
   "source": [
    "output = initial(120,16.3,7097)\n",
    "xlist,ylist,x = run(output)\n",
    "#plot(xlist,ylist)"
   ]
  },
  {
   "cell_type": "markdown",
   "id": "83dbcdb4",
   "metadata": {},
   "source": [
    "#### 7 Iron without Magnus Effect"
   ]
  },
  {
   "cell_type": "code",
   "execution_count": 51,
   "id": "11156aaf",
   "metadata": {},
   "outputs": [
    {
     "name": "stdout",
     "output_type": "stream",
     "text": [
      "max x in m =  86.9577109383094\n",
      "max x in yd =  95.1317357665105\n",
      "Percentage lost =  46.94018686243117 %\n"
     ]
    }
   ],
   "source": [
    "output = initial(120,16.3,7097)\n",
    "xlist,ylist,y = nrun(output)\n",
    "#plot(xlist,ylist)\n",
    "plost(x,y)"
   ]
  },
  {
   "cell_type": "markdown",
   "id": "cdb7ce19",
   "metadata": {},
   "source": [
    "#### 8 Iron with Magnus Effect"
   ]
  },
  {
   "cell_type": "code",
   "execution_count": 52,
   "id": "29cdeac9",
   "metadata": {},
   "outputs": [
    {
     "name": "stdout",
     "output_type": "stream",
     "text": [
      "max x in m =  155.47719974122467\n",
      "max x in yd =  170.0920565168998\n"
     ]
    }
   ],
   "source": [
    "output = initial(115,18.1,7998)\n",
    "xlist,ylist,x = run(output)\n",
    "#plot(xlist,ylist)"
   ]
  },
  {
   "cell_type": "markdown",
   "id": "ed9abd0d",
   "metadata": {},
   "source": [
    "#### 8 Iron without Magnus Effect"
   ]
  },
  {
   "cell_type": "code",
   "execution_count": 53,
   "id": "6218c811",
   "metadata": {},
   "outputs": [
    {
     "name": "stdout",
     "output_type": "stream",
     "text": [
      "max x in m =  87.10408236036164\n",
      "max x in yd =  95.29186610223564\n",
      "Percentage lost =  43.976298450617094 %\n"
     ]
    }
   ],
   "source": [
    "output = initial(115,18.1,7998)\n",
    "xlist,ylist,y = nrun(output)\n",
    "#plot(xlist,ylist)\n",
    "plost(x,y)"
   ]
  },
  {
   "cell_type": "markdown",
   "id": "8aed9819",
   "metadata": {},
   "source": [
    "#### 9 Iron with Magnus Effect"
   ]
  },
  {
   "cell_type": "code",
   "execution_count": 54,
   "id": "1cafc796",
   "metadata": {},
   "outputs": [
    {
     "name": "stdout",
     "output_type": "stream",
     "text": [
      "max x in m =  144.60398914967283\n",
      "max x in yd =  158.1967641297421\n"
     ]
    }
   ],
   "source": [
    "output = initial(109,20.4,8647)\n",
    "xlist,ylist,x = run(output)\n",
    "#plot(xlist,ylist)"
   ]
  },
  {
   "cell_type": "markdown",
   "id": "200e9251",
   "metadata": {},
   "source": [
    "#### 9 Iron without Magnus Effect"
   ]
  },
  {
   "cell_type": "code",
   "execution_count": 55,
   "id": "b1897d22",
   "metadata": {},
   "outputs": [
    {
     "name": "stdout",
     "output_type": "stream",
     "text": [
      "max x in m =  86.71678410187535\n",
      "max x in yd =  94.86816180745164\n",
      "Percentage lost =  40.03154089191906 %\n"
     ]
    }
   ],
   "source": [
    "output = initial(109,20.4,8647)\n",
    "xlist,ylist,y = nrun(output)\n",
    "#plot(xlist,ylist)\n",
    "plost(x,y)"
   ]
  },
  {
   "cell_type": "markdown",
   "id": "f0ed2d0d",
   "metadata": {},
   "source": [
    "#### Pitching Wedge with Magnus Effect"
   ]
  },
  {
   "cell_type": "code",
   "execution_count": 56,
   "id": "5d3a09fe",
   "metadata": {},
   "outputs": [
    {
     "name": "stdout",
     "output_type": "stream",
     "text": [
      "max x in m =  129.42544626669707\n",
      "max x in yd =  141.5914382157666\n"
     ]
    }
   ],
   "source": [
    "output = initial(102,24.2,9304)\n",
    "xlist,ylist,x = run(output)\n",
    "#plot(xlist,ylist)"
   ]
  },
  {
   "cell_type": "markdown",
   "id": "37b78bda",
   "metadata": {},
   "source": [
    "#### Pitching Wedge without Magnus Effect"
   ]
  },
  {
   "cell_type": "code",
   "execution_count": 57,
   "id": "4a464add",
   "metadata": {},
   "outputs": [
    {
     "name": "stdout",
     "output_type": "stream",
     "text": [
      "max x in m =  86.28590295485877\n",
      "max x in yd =  94.3967778326155\n",
      "Percentage lost =  33.3315777972625 %\n"
     ]
    }
   ],
   "source": [
    "output = initial(102,24.2,9304)\n",
    "xlist,ylist,y = nrun(output)\n",
    "#plot(xlist,ylist)\n",
    "plost(x,y)"
   ]
  },
  {
   "cell_type": "markdown",
   "id": "8b406579",
   "metadata": {},
   "source": [
    "## Results"
   ]
  },
  {
   "cell_type": "markdown",
   "id": "db7b9fcb",
   "metadata": {},
   "source": [
    "As we go through each instance, we see a decrease in percentage lost from the 3 iron to the pitching wedge, so the club most effected by the Magnus Effect is the 3 iron. Based on our results, we can conclude that even tho the high numbered irons have a much higher spin rate, the speed of the ball is really what determines how much the distance is effected for each club. This also can be important while playing golf, as it shows that lower lofted clubs are more affected by spin. This shows how it is more important to not hook or slice the ball with those clubs at it will have a greater error effect on your shot compared to the higher lofted clubs.\n",
    "\n",
    "Our results also show the effect on the game of golf itself the Magnus Effect has. Holes in golf can range up to almost 600 yards. Without being able to have golf clubs that can reach into the 200 yard range, golf would be a dramatically different sport that it is now."
   ]
  },
  {
   "cell_type": "code",
   "execution_count": null,
   "id": "7735cf05",
   "metadata": {},
   "outputs": [],
   "source": []
  }
 ],
 "metadata": {
  "kernelspec": {
   "display_name": "Python 3 (ipykernel)",
   "language": "python",
   "name": "python3"
  },
  "language_info": {
   "codemirror_mode": {
    "name": "ipython",
    "version": 3
   },
   "file_extension": ".py",
   "mimetype": "text/x-python",
   "name": "python",
   "nbconvert_exporter": "python",
   "pygments_lexer": "ipython3",
   "version": "3.9.7"
  }
 },
 "nbformat": 4,
 "nbformat_minor": 5
}
