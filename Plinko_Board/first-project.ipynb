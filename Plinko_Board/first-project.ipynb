{
 "cells": [
  {
   "cell_type": "code",
   "execution_count": 2,
   "id": "d1bf0321",
   "metadata": {},
   "outputs": [
    {
     "data": {
      "text/html": [
       "<div id=\"glowscript\" class=\"glowscript\"></div>"
      ],
      "text/plain": [
       "<IPython.core.display.HTML object>"
      ]
     },
     "metadata": {},
     "output_type": "display_data"
    },
    {
     "data": {
      "application/javascript": [
       "if (typeof Jupyter !== \"undefined\") { window.__context = { glowscript_container: $(\"#glowscript\").removeAttr(\"id\")};}else{ element.textContent = ' ';}"
      ],
      "text/plain": [
       "<IPython.core.display.Javascript object>"
      ]
     },
     "metadata": {},
     "output_type": "display_data"
    }
   ],
   "source": [
    "from vpython import *\n",
    "import numpy as np\n",
    "import random as rand\n",
    "import matplotlib.pyplot as plt\n",
    "from scipy.optimize import curve_fit #used to find the fit parameters"
   ]
  },
  {
   "cell_type": "markdown",
   "id": "53161fb1",
   "metadata": {},
   "source": [
    "# Goal of this project"
   ]
  },
  {
   "cell_type": "markdown",
   "id": "f2e8270d",
   "metadata": {},
   "source": [
    "Using arrays to track how long it takes for the particles to reach the bottom of the plinko board, while also tracking where a particle starts, this program will determine the average time that it takes for the balls to reach the bottom and determine if the data is constant.\n",
    "\n",
    "Through testing, the time it takes to reach the bottom varies, sometimes going very quickly, sometimes taking longer. Using various iterations, the code determines the average time it takes for each iterations of 10 balls. The program can be ran multiple times in order to collect a larger data sample."
   ]
  },
  {
   "cell_type": "markdown",
   "id": "68e59822",
   "metadata": {},
   "source": [
    "# Analysis of the timing with a Plinko Board"
   ]
  },
  {
   "cell_type": "markdown",
   "id": "b8cae1e4",
   "metadata": {},
   "source": [
    "The following project was designed in order to analysis how long it take a ball to reach the bottom of a given plinko board. First, we will analyse what factors will affect the outcome.\n",
    "\n",
    "1. The plinko board uses a total of 336 rods that affect the movement of the ball on the way down.\n",
    "2. Fgrav is defined by m*g with g being equal to 9.8 meters per second\n",
    "3. The mass of each ball is defined by m and is equal to 2 kilograms\n",
    "4. The rods are spreaded out over a length of 50 meters and a height of 15 meters\n",
    "5. The radius of the ball is .75 meters and the radius of each rod is .1 meters\n",
    "6. The ball is dropped in a random position (given that 0 is equal to the middle of the board) from -24 meters to 24 meters.\n",
    "7. The ball is given an initial x velocity of -4 per second to 4 meters per second. However, the initial x velocity will never be equal to 0.\n",
    "8. After each collision with a rod, energy loss is calculated by multiplying the current energy by .5"
   ]
  },
  {
   "cell_type": "markdown",
   "id": "83b64180",
   "metadata": {},
   "source": [
    "# Calculation and Equations"
   ]
  },
  {
   "cell_type": "markdown",
   "id": "13e1b4fa",
   "metadata": {},
   "source": [
    "A variety of calculations and equations were used to calculate the balls velocity, positions and effect when it hits a rod or wall.\n",
    "\n",
    "1. Velocity Update Equation: ball.v = ball.v + Fgrav/m * dt\n",
    "2. Position Update Equation: ball.pos = ball.pos + ball.v * dt\n",
    "3. Collision with a rod: Velocity tangent stays the same since we are assumining no friction, Velocity radial is along the direction of the rod based on the point of impact. Upon a collision, velocity radial is reversed and dividied by 2 in order to show a loss of energy due to a collision. Velocity radial is calculated by the dot product of ball.v and rhat (rhat is the hat of the distance between the center of the ball and the center of the rod) multiplied by rhat. \n",
    "4. When a ball collides with the left wall, the balls x velocity is set equal to the absolute value of its current x velocity. Ifthe ball collides with the right wall, the same is done but it is set equal to the negative absolute value of its x velocity."
   ]
  },
  {
   "cell_type": "code",
   "execution_count": 3,
   "id": "e4856ca7",
   "metadata": {},
   "outputs": [
    {
     "data": {
      "text/html": [
       "<div id=\"glowscript\" class=\"glowscript\"></div>"
      ],
      "text/plain": [
       "<IPython.core.display.HTML object>"
      ]
     },
     "metadata": {},
     "output_type": "display_data"
    },
    {
     "data": {
      "application/javascript": [
       "if (typeof Jupyter !== \"undefined\") { window.__context = { glowscript_container: $(\"#glowscript\").removeAttr(\"id\")};}else{ element.textContent = ' ';}"
      ],
      "text/plain": [
       "<IPython.core.display.Javascript object>"
      ]
     },
     "metadata": {},
     "output_type": "display_data"
    },
    {
     "data": {
      "application/javascript": [
       "if (typeof Jupyter !== \"undefined\") {require.undef(\"nbextensions/vpython_libraries/glow.min\");}else{element.textContent = ' ';}"
      ],
      "text/plain": [
       "<IPython.core.display.Javascript object>"
      ]
     },
     "metadata": {},
     "output_type": "display_data"
    },
    {
     "data": {
      "application/javascript": [
       "if (typeof Jupyter !== \"undefined\") {require.undef(\"nbextensions/vpython_libraries/glowcomm\");}else{element.textContent = ' ';}"
      ],
      "text/plain": [
       "<IPython.core.display.Javascript object>"
      ]
     },
     "metadata": {},
     "output_type": "display_data"
    },
    {
     "data": {
      "application/javascript": [
       "if (typeof Jupyter !== \"undefined\") {require.undef(\"nbextensions/vpython_libraries/jquery-ui.custom.min\");}else{element.textContent = ' ';}"
      ],
      "text/plain": [
       "<IPython.core.display.Javascript object>"
      ]
     },
     "metadata": {},
     "output_type": "display_data"
    },
    {
     "data": {
      "application/javascript": [
       "if (typeof Jupyter !== \"undefined\") {require([\"nbextensions/vpython_libraries/glow.min\"], function(){console.log(\"GLOW LOADED\");});}else{element.textContent = ' ';}"
      ],
      "text/plain": [
       "<IPython.core.display.Javascript object>"
      ]
     },
     "metadata": {},
     "output_type": "display_data"
    },
    {
     "data": {
      "application/javascript": [
       "if (typeof Jupyter !== \"undefined\") {require([\"nbextensions/vpython_libraries/glowcomm\"], function(){console.log(\"GLOWCOMM LOADED\");});}else{element.textContent = ' ';}"
      ],
      "text/plain": [
       "<IPython.core.display.Javascript object>"
      ]
     },
     "metadata": {},
     "output_type": "display_data"
    },
    {
     "data": {
      "application/javascript": [
       "if (typeof Jupyter !== \"undefined\") {require([\"nbextensions/vpython_libraries/jquery-ui.custom.min\"], function(){console.log(\"JQUERY LOADED\");});}else{element.textContent = ' ';}"
      ],
      "text/plain": [
       "<IPython.core.display.Javascript object>"
      ]
     },
     "metadata": {},
     "output_type": "display_data"
    }
   ],
   "source": [
    "scene1 = canvas(title=\"Plinko Board - Advanced\", background=color.white)\n",
    "\n",
    "g = 9.8      #gravity constant\n",
    "m = 2       #mass of ball in kilograms\n",
    "Fgrav = vec(0,-m*g,0)\n",
    "rball = .75    #radius of ball\n",
    "rrod = .1     #radius of rod\n",
    "\n",
    "#Below, the walls are initialized and placed on the canvas\n",
    "Lwall = box(pos = vec(-25, 0, 0), size = vec(1, 30, 1), color=color.cyan)\n",
    "Rwall = box(pos = vec(25, 0, 0), size = vec(1, 30, 1), color=color.cyan)\n",
    "Bwall = box(pos = vec(0, -15, 0), size = vec(50, 1, 1), color=color.cyan)\n",
    "\n",
    "#Below, the ball is created and given an initial random starting position and random velocity\n",
    "ball = sphere(pos = vec(rand.uniform(-24,24),16,0), radius = rball, color=color.green)\n",
    "#ball.v = vec(rand.uniform(-4,4),0,0)\n",
    "ball.v = vec(0,0,0)\n",
    "\n",
    "#This while loop ensures the ball's initial x velocity is never equal to 0\n",
    "#while ball.v.x == 0:\n",
    "#    ball.v.x = rand.uniform(-4,4)\n",
    "    \n",
    "#Below, the rods are created in a staggering pattern using an alternating placement method\n",
    "rod = []\n",
    "even = 0\n",
    "for i in range(-23,24,2):\n",
    "    if even == 0:\n",
    "        even+=1\n",
    "        for j in range(-13,15,2): \n",
    "            rod.append(cylinder(pos = vec(i,j,-0.25), color=color.black, axis = vec(0,0,.5), radius=rrod, collided=False))\n",
    "    elif even == 1:\n",
    "        even -= 1\n",
    "        for j in range(-13,15,2):\n",
    "            rod.append(cylinder(pos = vec(i,j+1,-0.25), color=color.black, axis = vec(0,0,.5), radius=rrod, collided=False))\n",
    "\n",
    "#Below, the total time is tracked and the change in time for each iteration of the loop is declared\n",
    "t = 0\n",
    "dt = 0.001\n",
    "\n",
    "#alist, tlist and slist are declared below\n",
    "tlist = [] #list of time taken by each ball\n",
    "slist = [] #list of start position\n",
    "\n",
    "#Scene pauses and await user input before continuing\n",
    "scene1.pause()\n",
    "\n",
    "#Below is the main loop for the calculation, the code is currently configure to cycle through 10 balls by\n",
    "#tracking the start position and total time taken in order to add to the arrays that create the histogram\n",
    "for i in range(100):\n",
    "    slist.append(ball.pos.x)\n",
    "#Below is the while loop for the program that calculates the different collisions, and other neccessary \n",
    "#calculations for the ball\n",
    "    while ball.pos.y > -15:\n",
    "        rate(100000000)\n",
    "\n",
    "    #The next two lines calculate the velocity and position update equations\n",
    "        ball.v = ball.v + Fgrav/m*dt\n",
    "        ball.pos = ball.pos + ball.v*dt \n",
    "\n",
    "    #This for loop determines if a ball is collided with a rod and calculates the collision from there\n",
    "    #an energy lose of 1/2 is calculated as a result of each collision\n",
    "        for i in range(len(rod)):\n",
    "            rodcenter = rod[i].pos+rod[i].axis/2\n",
    "            r = ball.pos - rodcenter\n",
    "            if mag(r) < rrod+rball and rod[i].collided==False:\n",
    "                rhat = hat(r)\n",
    "                vballrad = dot(ball.v,rhat)*rhat #rad comp of ball.v\n",
    "                vballtan = ball.v - vballrad #tan comp of ball.v\n",
    "                vballrad = -vballrad * .5 #reverse ball.rad due to collision\n",
    "                ball.v = vballtan + vballrad #new ball velocity after colision\n",
    "                rod[i].collided=True\n",
    "            elif mag(r) > rrod+rball and rod[i].collided==True:\n",
    "                rod[i].collided=False\n",
    "\n",
    "    #The following if statements determine if the ball is colliding with a wall and calculates the collision\n",
    "        if ball.pos.x >= 24.5:\n",
    "            ball.v.x = - abs(ball.v.x)\n",
    "        elif ball.pos.x <= -24.5:\n",
    "            ball.v.x = abs(ball.v.x)\n",
    "\n",
    "    #The time is incremented by dt\n",
    "        t = t + dt\n",
    "        \n",
    "#The tlist variable is tracked below\n",
    "    tlist.append(t)\n",
    "#Time is reset to 0 before the ball is reset to the top\n",
    "    t = 0\n",
    "#The ball is reset to the top\n",
    "    ball.pos.y = 16\n",
    "#The ball is given a new random position and initial x velocity\n",
    "    ball.pos.x = rand.uniform(-24,24)\n",
    "    ball.v.x = rand.uniform(-4,4)\n",
    "#The while loop ensures that the x velocity is not equal to 0\n",
    "    while ball.v.x == 0:\n",
    "        ball.v.x = rand.uniform(-4,4)    \n"
   ]
  },
  {
   "cell_type": "markdown",
   "id": "d734394d",
   "metadata": {},
   "source": [
    "# Histogram"
   ]
  },
  {
   "cell_type": "markdown",
   "id": "b63436ec",
   "metadata": {},
   "source": [
    "Below is the code to create the histogram that compares a given ball's start position compared to how long it took for the ball to reach the bottom. The code below uses the follwing variables:\n",
    "1. slist - This is the array that keeps track of the start position for each ball\n",
    "2. tlist - This is the array that keeps track of how long it take for each ball to reach the bottom"
   ]
  },
  {
   "cell_type": "code",
   "execution_count": 4,
   "id": "8bed06a5",
   "metadata": {},
   "outputs": [
    {
     "data": {
      "image/png": "[encoded data removed]",
      "text/plain": [
       "<Figure size 864x576 with 1 Axes>"
      ]
     },
     "metadata": {
      "needs_background": "light"
     },
     "output_type": "display_data"
    }
   ],
   "source": [
    "#Curve Fit\n",
    "model = lambda x,A,T: A*np.exp(-x/T)\n",
    "\n",
    "params, covariance = curve_fit(model,slist,tlist)\n",
    "tmodel = np.linspace(-24,24,10000)\n",
    "Vmodel = model(tmodel,*params)\n",
    "\n",
    "#plot scatter graph\n",
    "plt.figure(figsize=(12,8))\n",
    "plt.title('Time vs. X-position')\n",
    "plt.plot(slist, tlist, '.b')\n",
    "plt.plot(tmodel, Vmodel, 'r-')\n",
    "plt.show()"
   ]
  },
  {
   "cell_type": "code",
   "execution_count": 5,
   "id": "514e5cd9",
   "metadata": {},
   "outputs": [
    {
     "name": "stdout",
     "output_type": "stream",
     "text": [
      "Average Time to Reach Bottom:  12.061679999998796\n"
     ]
    }
   ],
   "source": [
    "total = 0\n",
    "for i in range(len(tlist)):\n",
    "    total += tlist[i]\n",
    "\n",
    "averageTime = total/100\n",
    "print(\"Average Time to Reach Bottom: \",averageTime)"
   ]
  },
  {
   "cell_type": "code",
   "execution_count": 6,
   "id": "1e62256f",
   "metadata": {},
   "outputs": [
    {
     "name": "stdout",
     "output_type": "stream",
     "text": [
      "Average Deviation from Curve Fit:  2.815079199998942\n"
     ]
    }
   ],
   "source": [
    "dlist = []\n",
    "\n",
    "for i in range(len(tlist)):\n",
    "    if tlist[i] > averageTime:\n",
    "        dlist.append(tlist[i] - averageTime)\n",
    "    else:\n",
    "        dlist.append(averageTime - tlist[i])\n",
    "\n",
    "count = 0\n",
    "for i in range(len(dlist)):\n",
    "    count += dlist[i]\n",
    "\n",
    "averageDev = count / 100\n",
    "print(\"Average Deviation from Curve Fit: \",averageDev)"
   ]
  },
  {
   "cell_type": "markdown",
   "id": "537b3054",
   "metadata": {},
   "source": [
    "### Conclusion\n",
    "As is seen in the above graph, the results vary with outliers taking less and longer to reach the bottom. However, the curve fit shows that if the simulation was run with more trials, the curve fit would likely be almost perfectly flat.\n",
    "\n",
    "The average deviation printed above shows, on average, how fare away the ball is away from the curve fit on the y-plane."
   ]
  },
  {
   "cell_type": "code",
   "execution_count": null,
   "id": "19621cc0",
   "metadata": {},
   "outputs": [],
   "source": []
  }
 ],
 "metadata": {
  "kernelspec": {
   "display_name": "Python 3 (ipykernel)",
   "language": "python",
   "name": "python3"
  },
  "language_info": {
   "codemirror_mode": {
    "name": "ipython",
    "version": 3
   },
   "file_extension": ".py",
   "mimetype": "text/x-python",
   "name": "python",
   "nbconvert_exporter": "python",
   "pygments_lexer": "ipython3",
   "version": "3.9.7"
  }
 },
 "nbformat": 4,
 "nbformat_minor": 5
}
